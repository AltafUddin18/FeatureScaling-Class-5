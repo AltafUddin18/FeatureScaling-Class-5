{
 "cells": [
  {
   "cell_type": "markdown",
   "id": "25d1b3a8",
   "metadata": {
    "papermill": {
     "duration": 0.010924,
     "end_time": "2023-05-10T16:11:27.391150",
     "exception": false,
     "start_time": "2023-05-10T16:11:27.380226",
     "status": "completed"
    },
    "tags": []
   },
   "source": [
    "# Class-5"
   ]
  },
  {
   "cell_type": "code",
   "execution_count": 1,
   "id": "387f72ae",
   "metadata": {
    "execution": {
     "iopub.execute_input": "2023-05-10T16:11:27.415470Z",
     "iopub.status.busy": "2023-05-10T16:11:27.414404Z",
     "iopub.status.idle": "2023-05-10T16:11:27.429534Z",
     "shell.execute_reply": "2023-05-10T16:11:27.428277Z"
    },
    "papermill": {
     "duration": 0.030427,
     "end_time": "2023-05-10T16:11:27.432404",
     "exception": false,
     "start_time": "2023-05-10T16:11:27.401977",
     "status": "completed"
    },
    "tags": []
   },
   "outputs": [],
   "source": [
    "import pandas as pd"
   ]
  },
  {
   "cell_type": "code",
   "execution_count": 2,
   "id": "0d267e85",
   "metadata": {
    "execution": {
     "iopub.execute_input": "2023-05-10T16:11:27.455752Z",
     "iopub.status.busy": "2023-05-10T16:11:27.455339Z",
     "iopub.status.idle": "2023-05-10T16:11:27.478588Z",
     "shell.execute_reply": "2023-05-10T16:11:27.477737Z"
    },
    "papermill": {
     "duration": 0.037836,
     "end_time": "2023-05-10T16:11:27.481141",
     "exception": false,
     "start_time": "2023-05-10T16:11:27.443305",
     "status": "completed"
    },
    "tags": []
   },
   "outputs": [],
   "source": [
    "df= pd.read_csv(\"/kaggle/input/supershops/supershops.csv\")"
   ]
  },
  {
   "cell_type": "code",
   "execution_count": 3,
   "id": "29f80f61",
   "metadata": {
    "execution": {
     "iopub.execute_input": "2023-05-10T16:11:27.504739Z",
     "iopub.status.busy": "2023-05-10T16:11:27.503769Z",
     "iopub.status.idle": "2023-05-10T16:11:27.539538Z",
     "shell.execute_reply": "2023-05-10T16:11:27.538407Z"
    },
    "papermill": {
     "duration": 0.051025,
     "end_time": "2023-05-10T16:11:27.542745",
     "exception": false,
     "start_time": "2023-05-10T16:11:27.491720",
     "status": "completed"
    },
    "tags": []
   },
   "outputs": [
    {
     "data": {
      "text/html": [
       "<div>\n",
       "<style scoped>\n",
       "    .dataframe tbody tr th:only-of-type {\n",
       "        vertical-align: middle;\n",
       "    }\n",
       "\n",
       "    .dataframe tbody tr th {\n",
       "        vertical-align: top;\n",
       "    }\n",
       "\n",
       "    .dataframe thead th {\n",
       "        text-align: right;\n",
       "    }\n",
       "</style>\n",
       "<table border=\"1\" class=\"dataframe\">\n",
       "  <thead>\n",
       "    <tr style=\"text-align: right;\">\n",
       "      <th></th>\n",
       "      <th>Marketing Spend</th>\n",
       "      <th>Administration</th>\n",
       "      <th>Transport</th>\n",
       "      <th>Area</th>\n",
       "      <th>Profit</th>\n",
       "    </tr>\n",
       "  </thead>\n",
       "  <tbody>\n",
       "    <tr>\n",
       "      <th>0</th>\n",
       "      <td>114523.61</td>\n",
       "      <td>136897.80</td>\n",
       "      <td>471784.10</td>\n",
       "      <td>Dhaka</td>\n",
       "      <td>192261.83</td>\n",
       "    </tr>\n",
       "    <tr>\n",
       "      <th>1</th>\n",
       "      <td>162597.70</td>\n",
       "      <td>151377.59</td>\n",
       "      <td>443898.53</td>\n",
       "      <td>Ctg</td>\n",
       "      <td>191792.06</td>\n",
       "    </tr>\n",
       "    <tr>\n",
       "      <th>2</th>\n",
       "      <td>153441.51</td>\n",
       "      <td>101145.55</td>\n",
       "      <td>407934.54</td>\n",
       "      <td>Rangpur</td>\n",
       "      <td>191050.39</td>\n",
       "    </tr>\n",
       "    <tr>\n",
       "      <th>3</th>\n",
       "      <td>144372.41</td>\n",
       "      <td>118671.85</td>\n",
       "      <td>383199.62</td>\n",
       "      <td>Dhaka</td>\n",
       "      <td>182901.99</td>\n",
       "    </tr>\n",
       "    <tr>\n",
       "      <th>4</th>\n",
       "      <td>142107.34</td>\n",
       "      <td>91391.77</td>\n",
       "      <td>366168.42</td>\n",
       "      <td>Rangpur</td>\n",
       "      <td>166187.94</td>\n",
       "    </tr>\n",
       "  </tbody>\n",
       "</table>\n",
       "</div>"
      ],
      "text/plain": [
       "   Marketing Spend  Administration  Transport     Area     Profit\n",
       "0        114523.61       136897.80  471784.10    Dhaka  192261.83\n",
       "1        162597.70       151377.59  443898.53      Ctg  191792.06\n",
       "2        153441.51       101145.55  407934.54  Rangpur  191050.39\n",
       "3        144372.41       118671.85  383199.62    Dhaka  182901.99\n",
       "4        142107.34        91391.77  366168.42  Rangpur  166187.94"
      ]
     },
     "execution_count": 3,
     "metadata": {},
     "output_type": "execute_result"
    }
   ],
   "source": [
    "df.head()"
   ]
  },
  {
   "cell_type": "code",
   "execution_count": 4,
   "id": "abd23759",
   "metadata": {
    "execution": {
     "iopub.execute_input": "2023-05-10T16:11:27.566032Z",
     "iopub.status.busy": "2023-05-10T16:11:27.565643Z",
     "iopub.status.idle": "2023-05-10T16:11:27.571644Z",
     "shell.execute_reply": "2023-05-10T16:11:27.570536Z"
    },
    "papermill": {
     "duration": 0.020198,
     "end_time": "2023-05-10T16:11:27.573663",
     "exception": false,
     "start_time": "2023-05-10T16:11:27.553465",
     "status": "completed"
    },
    "tags": []
   },
   "outputs": [],
   "source": [
    "df1=df.copy()\n",
    "df2=df.copy()\n",
    "df3=df.copy()\n",
    "df4=df.copy()"
   ]
  },
  {
   "cell_type": "markdown",
   "id": "71663caf",
   "metadata": {
    "papermill": {
     "duration": 0.01073,
     "end_time": "2023-05-10T16:11:27.595112",
     "exception": false,
     "start_time": "2023-05-10T16:11:27.584382",
     "status": "completed"
    },
    "tags": []
   },
   "source": [
    "## Normalization"
   ]
  },
  {
   "cell_type": "code",
   "execution_count": 5,
   "id": "3044d1be",
   "metadata": {
    "execution": {
     "iopub.execute_input": "2023-05-10T16:11:27.618521Z",
     "iopub.status.busy": "2023-05-10T16:11:27.618069Z",
     "iopub.status.idle": "2023-05-10T16:11:28.929043Z",
     "shell.execute_reply": "2023-05-10T16:11:28.927944Z"
    },
    "papermill": {
     "duration": 1.325721,
     "end_time": "2023-05-10T16:11:28.931633",
     "exception": false,
     "start_time": "2023-05-10T16:11:27.605912",
     "status": "completed"
    },
    "tags": []
   },
   "outputs": [
    {
     "name": "stderr",
     "output_type": "stream",
     "text": [
      "/opt/conda/lib/python3.10/site-packages/scipy/__init__.py:146: UserWarning: A NumPy version >=1.16.5 and <1.23.0 is required for this version of SciPy (detected version 1.23.5\n",
      "  warnings.warn(f\"A NumPy version >={np_minversion} and <{np_maxversion}\"\n"
     ]
    }
   ],
   "source": [
    "from sklearn.preprocessing import MinMaxScaler as mms"
   ]
  },
  {
   "cell_type": "code",
   "execution_count": 6,
   "id": "6637e5dc",
   "metadata": {
    "execution": {
     "iopub.execute_input": "2023-05-10T16:11:28.955704Z",
     "iopub.status.busy": "2023-05-10T16:11:28.954901Z",
     "iopub.status.idle": "2023-05-10T16:11:28.959916Z",
     "shell.execute_reply": "2023-05-10T16:11:28.959048Z"
    },
    "papermill": {
     "duration": 0.019477,
     "end_time": "2023-05-10T16:11:28.962031",
     "exception": false,
     "start_time": "2023-05-10T16:11:28.942554",
     "status": "completed"
    },
    "tags": []
   },
   "outputs": [],
   "source": [
    "m= mms()"
   ]
  },
  {
   "cell_type": "code",
   "execution_count": 7,
   "id": "11179952",
   "metadata": {
    "execution": {
     "iopub.execute_input": "2023-05-10T16:11:28.985956Z",
     "iopub.status.busy": "2023-05-10T16:11:28.985217Z",
     "iopub.status.idle": "2023-05-10T16:11:29.007722Z",
     "shell.execute_reply": "2023-05-10T16:11:29.006784Z"
    },
    "papermill": {
     "duration": 0.037283,
     "end_time": "2023-05-10T16:11:29.010216",
     "exception": false,
     "start_time": "2023-05-10T16:11:28.972933",
     "status": "completed"
    },
    "tags": []
   },
   "outputs": [
    {
     "data": {
      "text/html": [
       "<style>#sk-container-id-1 {color: black;background-color: white;}#sk-container-id-1 pre{padding: 0;}#sk-container-id-1 div.sk-toggleable {background-color: white;}#sk-container-id-1 label.sk-toggleable__label {cursor: pointer;display: block;width: 100%;margin-bottom: 0;padding: 0.3em;box-sizing: border-box;text-align: center;}#sk-container-id-1 label.sk-toggleable__label-arrow:before {content: \"▸\";float: left;margin-right: 0.25em;color: #696969;}#sk-container-id-1 label.sk-toggleable__label-arrow:hover:before {color: black;}#sk-container-id-1 div.sk-estimator:hover label.sk-toggleable__label-arrow:before {color: black;}#sk-container-id-1 div.sk-toggleable__content {max-height: 0;max-width: 0;overflow: hidden;text-align: left;background-color: #f0f8ff;}#sk-container-id-1 div.sk-toggleable__content pre {margin: 0.2em;color: black;border-radius: 0.25em;background-color: #f0f8ff;}#sk-container-id-1 input.sk-toggleable__control:checked~div.sk-toggleable__content {max-height: 200px;max-width: 100%;overflow: auto;}#sk-container-id-1 input.sk-toggleable__control:checked~label.sk-toggleable__label-arrow:before {content: \"▾\";}#sk-container-id-1 div.sk-estimator input.sk-toggleable__control:checked~label.sk-toggleable__label {background-color: #d4ebff;}#sk-container-id-1 div.sk-label input.sk-toggleable__control:checked~label.sk-toggleable__label {background-color: #d4ebff;}#sk-container-id-1 input.sk-hidden--visually {border: 0;clip: rect(1px 1px 1px 1px);clip: rect(1px, 1px, 1px, 1px);height: 1px;margin: -1px;overflow: hidden;padding: 0;position: absolute;width: 1px;}#sk-container-id-1 div.sk-estimator {font-family: monospace;background-color: #f0f8ff;border: 1px dotted black;border-radius: 0.25em;box-sizing: border-box;margin-bottom: 0.5em;}#sk-container-id-1 div.sk-estimator:hover {background-color: #d4ebff;}#sk-container-id-1 div.sk-parallel-item::after {content: \"\";width: 100%;border-bottom: 1px solid gray;flex-grow: 1;}#sk-container-id-1 div.sk-label:hover label.sk-toggleable__label {background-color: #d4ebff;}#sk-container-id-1 div.sk-serial::before {content: \"\";position: absolute;border-left: 1px solid gray;box-sizing: border-box;top: 0;bottom: 0;left: 50%;z-index: 0;}#sk-container-id-1 div.sk-serial {display: flex;flex-direction: column;align-items: center;background-color: white;padding-right: 0.2em;padding-left: 0.2em;position: relative;}#sk-container-id-1 div.sk-item {position: relative;z-index: 1;}#sk-container-id-1 div.sk-parallel {display: flex;align-items: stretch;justify-content: center;background-color: white;position: relative;}#sk-container-id-1 div.sk-item::before, #sk-container-id-1 div.sk-parallel-item::before {content: \"\";position: absolute;border-left: 1px solid gray;box-sizing: border-box;top: 0;bottom: 0;left: 50%;z-index: -1;}#sk-container-id-1 div.sk-parallel-item {display: flex;flex-direction: column;z-index: 1;position: relative;background-color: white;}#sk-container-id-1 div.sk-parallel-item:first-child::after {align-self: flex-end;width: 50%;}#sk-container-id-1 div.sk-parallel-item:last-child::after {align-self: flex-start;width: 50%;}#sk-container-id-1 div.sk-parallel-item:only-child::after {width: 0;}#sk-container-id-1 div.sk-dashed-wrapped {border: 1px dashed gray;margin: 0 0.4em 0.5em 0.4em;box-sizing: border-box;padding-bottom: 0.4em;background-color: white;}#sk-container-id-1 div.sk-label label {font-family: monospace;font-weight: bold;display: inline-block;line-height: 1.2em;}#sk-container-id-1 div.sk-label-container {text-align: center;}#sk-container-id-1 div.sk-container {/* jupyter's `normalize.less` sets `[hidden] { display: none; }` but bootstrap.min.css set `[hidden] { display: none !important; }` so we also need the `!important` here to be able to override the default hidden behavior on the sphinx rendered scikit-learn.org. See: https://github.com/scikit-learn/scikit-learn/issues/21755 */display: inline-block !important;position: relative;}#sk-container-id-1 div.sk-text-repr-fallback {display: none;}</style><div id=\"sk-container-id-1\" class=\"sk-top-container\"><div class=\"sk-text-repr-fallback\"><pre>MinMaxScaler()</pre><b>In a Jupyter environment, please rerun this cell to show the HTML representation or trust the notebook. <br />On GitHub, the HTML representation is unable to render, please try loading this page with nbviewer.org.</b></div><div class=\"sk-container\" hidden><div class=\"sk-item\"><div class=\"sk-estimator sk-toggleable\"><input class=\"sk-toggleable__control sk-hidden--visually\" id=\"sk-estimator-id-1\" type=\"checkbox\" checked><label for=\"sk-estimator-id-1\" class=\"sk-toggleable__label sk-toggleable__label-arrow\">MinMaxScaler</label><div class=\"sk-toggleable__content\"><pre>MinMaxScaler()</pre></div></div></div></div></div>"
      ],
      "text/plain": [
       "MinMaxScaler()"
      ]
     },
     "execution_count": 7,
     "metadata": {},
     "output_type": "execute_result"
    }
   ],
   "source": [
    "ms=m.fit(df[[\"Marketing Spend\"]])\n",
    "ms"
   ]
  },
  {
   "cell_type": "code",
   "execution_count": 8,
   "id": "3f3b9add",
   "metadata": {
    "execution": {
     "iopub.execute_input": "2023-05-10T16:11:29.034811Z",
     "iopub.status.busy": "2023-05-10T16:11:29.034114Z",
     "iopub.status.idle": "2023-05-10T16:11:29.053210Z",
     "shell.execute_reply": "2023-05-10T16:11:29.052050Z"
    },
    "papermill": {
     "duration": 0.034395,
     "end_time": "2023-05-10T16:11:29.055890",
     "exception": false,
     "start_time": "2023-05-10T16:11:29.021495",
     "status": "completed"
    },
    "tags": []
   },
   "outputs": [
    {
     "data": {
      "text/html": [
       "<div>\n",
       "<style scoped>\n",
       "    .dataframe tbody tr th:only-of-type {\n",
       "        vertical-align: middle;\n",
       "    }\n",
       "\n",
       "    .dataframe tbody tr th {\n",
       "        vertical-align: top;\n",
       "    }\n",
       "\n",
       "    .dataframe thead th {\n",
       "        text-align: right;\n",
       "    }\n",
       "</style>\n",
       "<table border=\"1\" class=\"dataframe\">\n",
       "  <thead>\n",
       "    <tr style=\"text-align: right;\">\n",
       "      <th></th>\n",
       "      <th>Marketing Spend</th>\n",
       "      <th>Administration</th>\n",
       "      <th>Transport</th>\n",
       "      <th>Area</th>\n",
       "      <th>Profit</th>\n",
       "    </tr>\n",
       "  </thead>\n",
       "  <tbody>\n",
       "    <tr>\n",
       "      <th>0</th>\n",
       "      <td>0.692617</td>\n",
       "      <td>136897.80</td>\n",
       "      <td>471784.10</td>\n",
       "      <td>Dhaka</td>\n",
       "      <td>192261.83</td>\n",
       "    </tr>\n",
       "    <tr>\n",
       "      <th>1</th>\n",
       "      <td>0.983359</td>\n",
       "      <td>151377.59</td>\n",
       "      <td>443898.53</td>\n",
       "      <td>Ctg</td>\n",
       "      <td>191792.06</td>\n",
       "    </tr>\n",
       "    <tr>\n",
       "      <th>2</th>\n",
       "      <td>0.927985</td>\n",
       "      <td>101145.55</td>\n",
       "      <td>407934.54</td>\n",
       "      <td>Rangpur</td>\n",
       "      <td>191050.39</td>\n",
       "    </tr>\n",
       "    <tr>\n",
       "      <th>3</th>\n",
       "      <td>0.873136</td>\n",
       "      <td>118671.85</td>\n",
       "      <td>383199.62</td>\n",
       "      <td>Dhaka</td>\n",
       "      <td>182901.99</td>\n",
       "    </tr>\n",
       "    <tr>\n",
       "      <th>4</th>\n",
       "      <td>0.859438</td>\n",
       "      <td>91391.77</td>\n",
       "      <td>366168.42</td>\n",
       "      <td>Rangpur</td>\n",
       "      <td>166187.94</td>\n",
       "    </tr>\n",
       "  </tbody>\n",
       "</table>\n",
       "</div>"
      ],
      "text/plain": [
       "   Marketing Spend  Administration  Transport     Area     Profit\n",
       "0         0.692617       136897.80  471784.10    Dhaka  192261.83\n",
       "1         0.983359       151377.59  443898.53      Ctg  191792.06\n",
       "2         0.927985       101145.55  407934.54  Rangpur  191050.39\n",
       "3         0.873136       118671.85  383199.62    Dhaka  182901.99\n",
       "4         0.859438        91391.77  366168.42  Rangpur  166187.94"
      ]
     },
     "execution_count": 8,
     "metadata": {},
     "output_type": "execute_result"
    }
   ],
   "source": [
    "df[\"Marketing Spend\"] = ms.fit_transform(df[[\"Marketing Spend\"]])\n",
    "df.head()"
   ]
  },
  {
   "cell_type": "code",
   "execution_count": 9,
   "id": "044fc25d",
   "metadata": {
    "execution": {
     "iopub.execute_input": "2023-05-10T16:11:29.081225Z",
     "iopub.status.busy": "2023-05-10T16:11:29.080409Z",
     "iopub.status.idle": "2023-05-10T16:11:29.098933Z",
     "shell.execute_reply": "2023-05-10T16:11:29.097786Z"
    },
    "papermill": {
     "duration": 0.034185,
     "end_time": "2023-05-10T16:11:29.101461",
     "exception": false,
     "start_time": "2023-05-10T16:11:29.067276",
     "status": "completed"
    },
    "tags": []
   },
   "outputs": [
    {
     "data": {
      "text/html": [
       "<div>\n",
       "<style scoped>\n",
       "    .dataframe tbody tr th:only-of-type {\n",
       "        vertical-align: middle;\n",
       "    }\n",
       "\n",
       "    .dataframe tbody tr th {\n",
       "        vertical-align: top;\n",
       "    }\n",
       "\n",
       "    .dataframe thead th {\n",
       "        text-align: right;\n",
       "    }\n",
       "</style>\n",
       "<table border=\"1\" class=\"dataframe\">\n",
       "  <thead>\n",
       "    <tr style=\"text-align: right;\">\n",
       "      <th></th>\n",
       "      <th>Marketing Spend</th>\n",
       "      <th>Administration</th>\n",
       "      <th>Transport</th>\n",
       "      <th>Area</th>\n",
       "      <th>Profit</th>\n",
       "    </tr>\n",
       "  </thead>\n",
       "  <tbody>\n",
       "    <tr>\n",
       "      <th>0</th>\n",
       "      <td>0.692617</td>\n",
       "      <td>0.651744</td>\n",
       "      <td>471784.10</td>\n",
       "      <td>Dhaka</td>\n",
       "      <td>192261.83</td>\n",
       "    </tr>\n",
       "    <tr>\n",
       "      <th>1</th>\n",
       "      <td>0.983359</td>\n",
       "      <td>0.761972</td>\n",
       "      <td>443898.53</td>\n",
       "      <td>Ctg</td>\n",
       "      <td>191792.06</td>\n",
       "    </tr>\n",
       "    <tr>\n",
       "      <th>2</th>\n",
       "      <td>0.927985</td>\n",
       "      <td>0.379579</td>\n",
       "      <td>407934.54</td>\n",
       "      <td>Rangpur</td>\n",
       "      <td>191050.39</td>\n",
       "    </tr>\n",
       "    <tr>\n",
       "      <th>3</th>\n",
       "      <td>0.873136</td>\n",
       "      <td>0.512998</td>\n",
       "      <td>383199.62</td>\n",
       "      <td>Dhaka</td>\n",
       "      <td>182901.99</td>\n",
       "    </tr>\n",
       "    <tr>\n",
       "      <th>4</th>\n",
       "      <td>0.859438</td>\n",
       "      <td>0.305328</td>\n",
       "      <td>366168.42</td>\n",
       "      <td>Rangpur</td>\n",
       "      <td>166187.94</td>\n",
       "    </tr>\n",
       "  </tbody>\n",
       "</table>\n",
       "</div>"
      ],
      "text/plain": [
       "   Marketing Spend  Administration  Transport     Area     Profit\n",
       "0         0.692617        0.651744  471784.10    Dhaka  192261.83\n",
       "1         0.983359        0.761972  443898.53      Ctg  191792.06\n",
       "2         0.927985        0.379579  407934.54  Rangpur  191050.39\n",
       "3         0.873136        0.512998  383199.62    Dhaka  182901.99\n",
       "4         0.859438        0.305328  366168.42  Rangpur  166187.94"
      ]
     },
     "execution_count": 9,
     "metadata": {},
     "output_type": "execute_result"
    }
   ],
   "source": [
    "df[\"Administration\"] = ms.fit_transform(df[[\"Administration\"]])\n",
    "df.head()"
   ]
  },
  {
   "cell_type": "code",
   "execution_count": 10,
   "id": "afedd864",
   "metadata": {
    "execution": {
     "iopub.execute_input": "2023-05-10T16:11:29.126901Z",
     "iopub.status.busy": "2023-05-10T16:11:29.126115Z",
     "iopub.status.idle": "2023-05-10T16:11:29.144127Z",
     "shell.execute_reply": "2023-05-10T16:11:29.143029Z"
    },
    "papermill": {
     "duration": 0.033585,
     "end_time": "2023-05-10T16:11:29.146551",
     "exception": false,
     "start_time": "2023-05-10T16:11:29.112966",
     "status": "completed"
    },
    "tags": []
   },
   "outputs": [
    {
     "data": {
      "text/html": [
       "<div>\n",
       "<style scoped>\n",
       "    .dataframe tbody tr th:only-of-type {\n",
       "        vertical-align: middle;\n",
       "    }\n",
       "\n",
       "    .dataframe tbody tr th {\n",
       "        vertical-align: top;\n",
       "    }\n",
       "\n",
       "    .dataframe thead th {\n",
       "        text-align: right;\n",
       "    }\n",
       "</style>\n",
       "<table border=\"1\" class=\"dataframe\">\n",
       "  <thead>\n",
       "    <tr style=\"text-align: right;\">\n",
       "      <th></th>\n",
       "      <th>Marketing Spend</th>\n",
       "      <th>Administration</th>\n",
       "      <th>Transport</th>\n",
       "      <th>Area</th>\n",
       "      <th>Profit</th>\n",
       "    </tr>\n",
       "  </thead>\n",
       "  <tbody>\n",
       "    <tr>\n",
       "      <th>0</th>\n",
       "      <td>0.692617</td>\n",
       "      <td>0.651744</td>\n",
       "      <td>1.000000</td>\n",
       "      <td>Dhaka</td>\n",
       "      <td>192261.83</td>\n",
       "    </tr>\n",
       "    <tr>\n",
       "      <th>1</th>\n",
       "      <td>0.983359</td>\n",
       "      <td>0.761972</td>\n",
       "      <td>0.940893</td>\n",
       "      <td>Ctg</td>\n",
       "      <td>191792.06</td>\n",
       "    </tr>\n",
       "    <tr>\n",
       "      <th>2</th>\n",
       "      <td>0.927985</td>\n",
       "      <td>0.379579</td>\n",
       "      <td>0.864664</td>\n",
       "      <td>Rangpur</td>\n",
       "      <td>191050.39</td>\n",
       "    </tr>\n",
       "    <tr>\n",
       "      <th>3</th>\n",
       "      <td>0.873136</td>\n",
       "      <td>0.512998</td>\n",
       "      <td>0.812235</td>\n",
       "      <td>Dhaka</td>\n",
       "      <td>182901.99</td>\n",
       "    </tr>\n",
       "    <tr>\n",
       "      <th>4</th>\n",
       "      <td>0.859438</td>\n",
       "      <td>0.305328</td>\n",
       "      <td>0.776136</td>\n",
       "      <td>Rangpur</td>\n",
       "      <td>166187.94</td>\n",
       "    </tr>\n",
       "  </tbody>\n",
       "</table>\n",
       "</div>"
      ],
      "text/plain": [
       "   Marketing Spend  Administration  Transport     Area     Profit\n",
       "0         0.692617        0.651744   1.000000    Dhaka  192261.83\n",
       "1         0.983359        0.761972   0.940893      Ctg  191792.06\n",
       "2         0.927985        0.379579   0.864664  Rangpur  191050.39\n",
       "3         0.873136        0.512998   0.812235    Dhaka  182901.99\n",
       "4         0.859438        0.305328   0.776136  Rangpur  166187.94"
      ]
     },
     "execution_count": 10,
     "metadata": {},
     "output_type": "execute_result"
    }
   ],
   "source": [
    "df[\"Transport\"] = ms.fit_transform(df[[\"Transport\"]])\n",
    "df.head()"
   ]
  },
  {
   "cell_type": "markdown",
   "id": "4543dc36",
   "metadata": {
    "papermill": {
     "duration": 0.012025,
     "end_time": "2023-05-10T16:11:29.170752",
     "exception": false,
     "start_time": "2023-05-10T16:11:29.158727",
     "status": "completed"
    },
    "tags": []
   },
   "source": [
    "## Standardization"
   ]
  },
  {
   "cell_type": "code",
   "execution_count": 11,
   "id": "529408ef",
   "metadata": {
    "execution": {
     "iopub.execute_input": "2023-05-10T16:11:29.198073Z",
     "iopub.status.busy": "2023-05-10T16:11:29.197248Z",
     "iopub.status.idle": "2023-05-10T16:11:29.213397Z",
     "shell.execute_reply": "2023-05-10T16:11:29.211806Z"
    },
    "papermill": {
     "duration": 0.033312,
     "end_time": "2023-05-10T16:11:29.216256",
     "exception": false,
     "start_time": "2023-05-10T16:11:29.182944",
     "status": "completed"
    },
    "tags": []
   },
   "outputs": [
    {
     "data": {
      "text/html": [
       "<div>\n",
       "<style scoped>\n",
       "    .dataframe tbody tr th:only-of-type {\n",
       "        vertical-align: middle;\n",
       "    }\n",
       "\n",
       "    .dataframe tbody tr th {\n",
       "        vertical-align: top;\n",
       "    }\n",
       "\n",
       "    .dataframe thead th {\n",
       "        text-align: right;\n",
       "    }\n",
       "</style>\n",
       "<table border=\"1\" class=\"dataframe\">\n",
       "  <thead>\n",
       "    <tr style=\"text-align: right;\">\n",
       "      <th></th>\n",
       "      <th>Marketing Spend</th>\n",
       "      <th>Administration</th>\n",
       "      <th>Transport</th>\n",
       "      <th>Area</th>\n",
       "      <th>Profit</th>\n",
       "    </tr>\n",
       "  </thead>\n",
       "  <tbody>\n",
       "    <tr>\n",
       "      <th>0</th>\n",
       "      <td>114523.61</td>\n",
       "      <td>136897.80</td>\n",
       "      <td>471784.10</td>\n",
       "      <td>Dhaka</td>\n",
       "      <td>192261.83</td>\n",
       "    </tr>\n",
       "    <tr>\n",
       "      <th>1</th>\n",
       "      <td>162597.70</td>\n",
       "      <td>151377.59</td>\n",
       "      <td>443898.53</td>\n",
       "      <td>Ctg</td>\n",
       "      <td>191792.06</td>\n",
       "    </tr>\n",
       "    <tr>\n",
       "      <th>2</th>\n",
       "      <td>153441.51</td>\n",
       "      <td>101145.55</td>\n",
       "      <td>407934.54</td>\n",
       "      <td>Rangpur</td>\n",
       "      <td>191050.39</td>\n",
       "    </tr>\n",
       "    <tr>\n",
       "      <th>3</th>\n",
       "      <td>144372.41</td>\n",
       "      <td>118671.85</td>\n",
       "      <td>383199.62</td>\n",
       "      <td>Dhaka</td>\n",
       "      <td>182901.99</td>\n",
       "    </tr>\n",
       "    <tr>\n",
       "      <th>4</th>\n",
       "      <td>142107.34</td>\n",
       "      <td>91391.77</td>\n",
       "      <td>366168.42</td>\n",
       "      <td>Rangpur</td>\n",
       "      <td>166187.94</td>\n",
       "    </tr>\n",
       "  </tbody>\n",
       "</table>\n",
       "</div>"
      ],
      "text/plain": [
       "   Marketing Spend  Administration  Transport     Area     Profit\n",
       "0        114523.61       136897.80  471784.10    Dhaka  192261.83\n",
       "1        162597.70       151377.59  443898.53      Ctg  191792.06\n",
       "2        153441.51       101145.55  407934.54  Rangpur  191050.39\n",
       "3        144372.41       118671.85  383199.62    Dhaka  182901.99\n",
       "4        142107.34        91391.77  366168.42  Rangpur  166187.94"
      ]
     },
     "execution_count": 11,
     "metadata": {},
     "output_type": "execute_result"
    }
   ],
   "source": [
    "df2.head()"
   ]
  },
  {
   "cell_type": "code",
   "execution_count": 12,
   "id": "d679b23d",
   "metadata": {
    "execution": {
     "iopub.execute_input": "2023-05-10T16:11:29.242953Z",
     "iopub.status.busy": "2023-05-10T16:11:29.242170Z",
     "iopub.status.idle": "2023-05-10T16:11:29.247478Z",
     "shell.execute_reply": "2023-05-10T16:11:29.246503Z"
    },
    "papermill": {
     "duration": 0.021662,
     "end_time": "2023-05-10T16:11:29.250174",
     "exception": false,
     "start_time": "2023-05-10T16:11:29.228512",
     "status": "completed"
    },
    "tags": []
   },
   "outputs": [],
   "source": [
    "from sklearn.preprocessing import StandardScaler"
   ]
  },
  {
   "cell_type": "code",
   "execution_count": 13,
   "id": "4291eeb1",
   "metadata": {
    "execution": {
     "iopub.execute_input": "2023-05-10T16:11:29.276517Z",
     "iopub.status.busy": "2023-05-10T16:11:29.276134Z",
     "iopub.status.idle": "2023-05-10T16:11:29.280665Z",
     "shell.execute_reply": "2023-05-10T16:11:29.279490Z"
    },
    "papermill": {
     "duration": 0.020649,
     "end_time": "2023-05-10T16:11:29.283179",
     "exception": false,
     "start_time": "2023-05-10T16:11:29.262530",
     "status": "completed"
    },
    "tags": []
   },
   "outputs": [],
   "source": [
    "stdscl=StandardScaler()"
   ]
  },
  {
   "cell_type": "code",
   "execution_count": 14,
   "id": "75a93ccf",
   "metadata": {
    "execution": {
     "iopub.execute_input": "2023-05-10T16:11:29.310049Z",
     "iopub.status.busy": "2023-05-10T16:11:29.309613Z",
     "iopub.status.idle": "2023-05-10T16:11:29.318416Z",
     "shell.execute_reply": "2023-05-10T16:11:29.317363Z"
    },
    "papermill": {
     "duration": 0.025117,
     "end_time": "2023-05-10T16:11:29.320797",
     "exception": false,
     "start_time": "2023-05-10T16:11:29.295680",
     "status": "completed"
    },
    "tags": []
   },
   "outputs": [],
   "source": [
    "std1=stdscl.fit(df2[[\"Marketing Spend\"]])"
   ]
  },
  {
   "cell_type": "code",
   "execution_count": 15,
   "id": "d759f00b",
   "metadata": {
    "execution": {
     "iopub.execute_input": "2023-05-10T16:11:29.347867Z",
     "iopub.status.busy": "2023-05-10T16:11:29.346437Z",
     "iopub.status.idle": "2023-05-10T16:11:29.355868Z",
     "shell.execute_reply": "2023-05-10T16:11:29.354923Z"
    },
    "papermill": {
     "duration": 0.025341,
     "end_time": "2023-05-10T16:11:29.358300",
     "exception": false,
     "start_time": "2023-05-10T16:11:29.332959",
     "status": "completed"
    },
    "tags": []
   },
   "outputs": [
    {
     "data": {
      "text/plain": [
       "array([73721.6156])"
      ]
     },
     "execution_count": 15,
     "metadata": {},
     "output_type": "execute_result"
    }
   ],
   "source": [
    "std1.mean_"
   ]
  },
  {
   "cell_type": "code",
   "execution_count": 16,
   "id": "833b12ad",
   "metadata": {
    "execution": {
     "iopub.execute_input": "2023-05-10T16:11:29.384962Z",
     "iopub.status.busy": "2023-05-10T16:11:29.384189Z",
     "iopub.status.idle": "2023-05-10T16:11:29.403111Z",
     "shell.execute_reply": "2023-05-10T16:11:29.401760Z"
    },
    "papermill": {
     "duration": 0.035361,
     "end_time": "2023-05-10T16:11:29.406014",
     "exception": false,
     "start_time": "2023-05-10T16:11:29.370653",
     "status": "completed"
    },
    "tags": []
   },
   "outputs": [
    {
     "data": {
      "text/html": [
       "<div>\n",
       "<style scoped>\n",
       "    .dataframe tbody tr th:only-of-type {\n",
       "        vertical-align: middle;\n",
       "    }\n",
       "\n",
       "    .dataframe tbody tr th {\n",
       "        vertical-align: top;\n",
       "    }\n",
       "\n",
       "    .dataframe thead th {\n",
       "        text-align: right;\n",
       "    }\n",
       "</style>\n",
       "<table border=\"1\" class=\"dataframe\">\n",
       "  <thead>\n",
       "    <tr style=\"text-align: right;\">\n",
       "      <th></th>\n",
       "      <th>Marketing Spend</th>\n",
       "      <th>Administration</th>\n",
       "      <th>Transport</th>\n",
       "      <th>Area</th>\n",
       "      <th>Profit</th>\n",
       "    </tr>\n",
       "  </thead>\n",
       "  <tbody>\n",
       "    <tr>\n",
       "      <th>0</th>\n",
       "      <td>0.897913</td>\n",
       "      <td>136897.80</td>\n",
       "      <td>471784.10</td>\n",
       "      <td>Dhaka</td>\n",
       "      <td>192261.83</td>\n",
       "    </tr>\n",
       "    <tr>\n",
       "      <th>1</th>\n",
       "      <td>1.955860</td>\n",
       "      <td>151377.59</td>\n",
       "      <td>443898.53</td>\n",
       "      <td>Ctg</td>\n",
       "      <td>191792.06</td>\n",
       "    </tr>\n",
       "    <tr>\n",
       "      <th>2</th>\n",
       "      <td>1.754364</td>\n",
       "      <td>101145.55</td>\n",
       "      <td>407934.54</td>\n",
       "      <td>Rangpur</td>\n",
       "      <td>191050.39</td>\n",
       "    </tr>\n",
       "    <tr>\n",
       "      <th>3</th>\n",
       "      <td>1.554784</td>\n",
       "      <td>118671.85</td>\n",
       "      <td>383199.62</td>\n",
       "      <td>Dhaka</td>\n",
       "      <td>182901.99</td>\n",
       "    </tr>\n",
       "    <tr>\n",
       "      <th>4</th>\n",
       "      <td>1.504937</td>\n",
       "      <td>91391.77</td>\n",
       "      <td>366168.42</td>\n",
       "      <td>Rangpur</td>\n",
       "      <td>166187.94</td>\n",
       "    </tr>\n",
       "  </tbody>\n",
       "</table>\n",
       "</div>"
      ],
      "text/plain": [
       "   Marketing Spend  Administration  Transport     Area     Profit\n",
       "0         0.897913       136897.80  471784.10    Dhaka  192261.83\n",
       "1         1.955860       151377.59  443898.53      Ctg  191792.06\n",
       "2         1.754364       101145.55  407934.54  Rangpur  191050.39\n",
       "3         1.554784       118671.85  383199.62    Dhaka  182901.99\n",
       "4         1.504937        91391.77  366168.42  Rangpur  166187.94"
      ]
     },
     "execution_count": 16,
     "metadata": {},
     "output_type": "execute_result"
    }
   ],
   "source": [
    "df2[\"Marketing Spend\"]=stdscl.fit_transform(df2[[\"Marketing Spend\"]])\n",
    "df2.head()"
   ]
  },
  {
   "cell_type": "code",
   "execution_count": 17,
   "id": "d8501b03",
   "metadata": {
    "execution": {
     "iopub.execute_input": "2023-05-10T16:11:29.433269Z",
     "iopub.status.busy": "2023-05-10T16:11:29.432823Z",
     "iopub.status.idle": "2023-05-10T16:11:29.452197Z",
     "shell.execute_reply": "2023-05-10T16:11:29.450848Z"
    },
    "papermill": {
     "duration": 0.035958,
     "end_time": "2023-05-10T16:11:29.454892",
     "exception": false,
     "start_time": "2023-05-10T16:11:29.418934",
     "status": "completed"
    },
    "tags": []
   },
   "outputs": [
    {
     "data": {
      "text/html": [
       "<div>\n",
       "<style scoped>\n",
       "    .dataframe tbody tr th:only-of-type {\n",
       "        vertical-align: middle;\n",
       "    }\n",
       "\n",
       "    .dataframe tbody tr th {\n",
       "        vertical-align: top;\n",
       "    }\n",
       "\n",
       "    .dataframe thead th {\n",
       "        text-align: right;\n",
       "    }\n",
       "</style>\n",
       "<table border=\"1\" class=\"dataframe\">\n",
       "  <thead>\n",
       "    <tr style=\"text-align: right;\">\n",
       "      <th></th>\n",
       "      <th>Marketing Spend</th>\n",
       "      <th>Administration</th>\n",
       "      <th>Transport</th>\n",
       "      <th>Area</th>\n",
       "      <th>Profit</th>\n",
       "    </tr>\n",
       "  </thead>\n",
       "  <tbody>\n",
       "    <tr>\n",
       "      <th>0</th>\n",
       "      <td>0.897913</td>\n",
       "      <td>0.560753</td>\n",
       "      <td>471784.10</td>\n",
       "      <td>Dhaka</td>\n",
       "      <td>192261.83</td>\n",
       "    </tr>\n",
       "    <tr>\n",
       "      <th>1</th>\n",
       "      <td>1.955860</td>\n",
       "      <td>1.082807</td>\n",
       "      <td>443898.53</td>\n",
       "      <td>Ctg</td>\n",
       "      <td>191792.06</td>\n",
       "    </tr>\n",
       "    <tr>\n",
       "      <th>2</th>\n",
       "      <td>1.754364</td>\n",
       "      <td>-0.728257</td>\n",
       "      <td>407934.54</td>\n",
       "      <td>Rangpur</td>\n",
       "      <td>191050.39</td>\n",
       "    </tr>\n",
       "    <tr>\n",
       "      <th>3</th>\n",
       "      <td>1.554784</td>\n",
       "      <td>-0.096365</td>\n",
       "      <td>383199.62</td>\n",
       "      <td>Dhaka</td>\n",
       "      <td>182901.99</td>\n",
       "    </tr>\n",
       "    <tr>\n",
       "      <th>4</th>\n",
       "      <td>1.504937</td>\n",
       "      <td>-1.079919</td>\n",
       "      <td>366168.42</td>\n",
       "      <td>Rangpur</td>\n",
       "      <td>166187.94</td>\n",
       "    </tr>\n",
       "  </tbody>\n",
       "</table>\n",
       "</div>"
      ],
      "text/plain": [
       "   Marketing Spend  Administration  Transport     Area     Profit\n",
       "0         0.897913        0.560753  471784.10    Dhaka  192261.83\n",
       "1         1.955860        1.082807  443898.53      Ctg  191792.06\n",
       "2         1.754364       -0.728257  407934.54  Rangpur  191050.39\n",
       "3         1.554784       -0.096365  383199.62    Dhaka  182901.99\n",
       "4         1.504937       -1.079919  366168.42  Rangpur  166187.94"
      ]
     },
     "execution_count": 17,
     "metadata": {},
     "output_type": "execute_result"
    }
   ],
   "source": [
    "#std2=stdscl.fit(df2[[\"Administration\"]])\n",
    "df2[\"Administration\"]=stdscl.fit_transform(df2[[\"Administration\"]])\n",
    "df2.head()"
   ]
  },
  {
   "cell_type": "code",
   "execution_count": 18,
   "id": "d4811813",
   "metadata": {
    "execution": {
     "iopub.execute_input": "2023-05-10T16:11:29.482401Z",
     "iopub.status.busy": "2023-05-10T16:11:29.481918Z",
     "iopub.status.idle": "2023-05-10T16:11:29.500941Z",
     "shell.execute_reply": "2023-05-10T16:11:29.499721Z"
    },
    "papermill": {
     "duration": 0.035892,
     "end_time": "2023-05-10T16:11:29.503662",
     "exception": false,
     "start_time": "2023-05-10T16:11:29.467770",
     "status": "completed"
    },
    "tags": []
   },
   "outputs": [
    {
     "data": {
      "text/html": [
       "<div>\n",
       "<style scoped>\n",
       "    .dataframe tbody tr th:only-of-type {\n",
       "        vertical-align: middle;\n",
       "    }\n",
       "\n",
       "    .dataframe tbody tr th {\n",
       "        vertical-align: top;\n",
       "    }\n",
       "\n",
       "    .dataframe thead th {\n",
       "        text-align: right;\n",
       "    }\n",
       "</style>\n",
       "<table border=\"1\" class=\"dataframe\">\n",
       "  <thead>\n",
       "    <tr style=\"text-align: right;\">\n",
       "      <th></th>\n",
       "      <th>Marketing Spend</th>\n",
       "      <th>Administration</th>\n",
       "      <th>Transport</th>\n",
       "      <th>Area</th>\n",
       "      <th>Profit</th>\n",
       "    </tr>\n",
       "  </thead>\n",
       "  <tbody>\n",
       "    <tr>\n",
       "      <th>0</th>\n",
       "      <td>0.897913</td>\n",
       "      <td>0.560753</td>\n",
       "      <td>2.165287</td>\n",
       "      <td>Dhaka</td>\n",
       "      <td>192261.83</td>\n",
       "    </tr>\n",
       "    <tr>\n",
       "      <th>1</th>\n",
       "      <td>1.955860</td>\n",
       "      <td>1.082807</td>\n",
       "      <td>1.929843</td>\n",
       "      <td>Ctg</td>\n",
       "      <td>191792.06</td>\n",
       "    </tr>\n",
       "    <tr>\n",
       "      <th>2</th>\n",
       "      <td>1.754364</td>\n",
       "      <td>-0.728257</td>\n",
       "      <td>1.626191</td>\n",
       "      <td>Rangpur</td>\n",
       "      <td>191050.39</td>\n",
       "    </tr>\n",
       "    <tr>\n",
       "      <th>3</th>\n",
       "      <td>1.554784</td>\n",
       "      <td>-0.096365</td>\n",
       "      <td>1.417348</td>\n",
       "      <td>Dhaka</td>\n",
       "      <td>182901.99</td>\n",
       "    </tr>\n",
       "    <tr>\n",
       "      <th>4</th>\n",
       "      <td>1.504937</td>\n",
       "      <td>-1.079919</td>\n",
       "      <td>1.273550</td>\n",
       "      <td>Rangpur</td>\n",
       "      <td>166187.94</td>\n",
       "    </tr>\n",
       "  </tbody>\n",
       "</table>\n",
       "</div>"
      ],
      "text/plain": [
       "   Marketing Spend  Administration  Transport     Area     Profit\n",
       "0         0.897913        0.560753   2.165287    Dhaka  192261.83\n",
       "1         1.955860        1.082807   1.929843      Ctg  191792.06\n",
       "2         1.754364       -0.728257   1.626191  Rangpur  191050.39\n",
       "3         1.554784       -0.096365   1.417348    Dhaka  182901.99\n",
       "4         1.504937       -1.079919   1.273550  Rangpur  166187.94"
      ]
     },
     "execution_count": 18,
     "metadata": {},
     "output_type": "execute_result"
    }
   ],
   "source": [
    "#std3=stdscl.fit(df2[[\"Transport\"]])\n",
    "df2[\"Transport\"]=stdscl.fit_transform(df2[[\"Transport\"]])\n",
    "df2.head()"
   ]
  },
  {
   "cell_type": "markdown",
   "id": "ef783cb7",
   "metadata": {
    "papermill": {
     "duration": 0.013564,
     "end_time": "2023-05-10T16:11:29.530298",
     "exception": false,
     "start_time": "2023-05-10T16:11:29.516734",
     "status": "completed"
    },
    "tags": []
   },
   "source": [
    "## Robust Scaler"
   ]
  },
  {
   "cell_type": "code",
   "execution_count": 19,
   "id": "faa1c44e",
   "metadata": {
    "execution": {
     "iopub.execute_input": "2023-05-10T16:11:29.559753Z",
     "iopub.status.busy": "2023-05-10T16:11:29.559302Z",
     "iopub.status.idle": "2023-05-10T16:11:29.565155Z",
     "shell.execute_reply": "2023-05-10T16:11:29.563878Z"
    },
    "papermill": {
     "duration": 0.022803,
     "end_time": "2023-05-10T16:11:29.567676",
     "exception": false,
     "start_time": "2023-05-10T16:11:29.544873",
     "status": "completed"
    },
    "tags": []
   },
   "outputs": [],
   "source": [
    "from sklearn.preprocessing import RobustScaler"
   ]
  },
  {
   "cell_type": "code",
   "execution_count": 20,
   "id": "892e470c",
   "metadata": {
    "execution": {
     "iopub.execute_input": "2023-05-10T16:11:29.595937Z",
     "iopub.status.busy": "2023-05-10T16:11:29.595136Z",
     "iopub.status.idle": "2023-05-10T16:11:29.600199Z",
     "shell.execute_reply": "2023-05-10T16:11:29.599059Z"
    },
    "papermill": {
     "duration": 0.021984,
     "end_time": "2023-05-10T16:11:29.602794",
     "exception": false,
     "start_time": "2023-05-10T16:11:29.580810",
     "status": "completed"
    },
    "tags": []
   },
   "outputs": [],
   "source": [
    "RS=RobustScaler()"
   ]
  },
  {
   "cell_type": "code",
   "execution_count": 21,
   "id": "1a4263f4",
   "metadata": {
    "execution": {
     "iopub.execute_input": "2023-05-10T16:11:29.631327Z",
     "iopub.status.busy": "2023-05-10T16:11:29.630516Z",
     "iopub.status.idle": "2023-05-10T16:11:29.645175Z",
     "shell.execute_reply": "2023-05-10T16:11:29.644052Z"
    },
    "papermill": {
     "duration": 0.031787,
     "end_time": "2023-05-10T16:11:29.647673",
     "exception": false,
     "start_time": "2023-05-10T16:11:29.615886",
     "status": "completed"
    },
    "tags": []
   },
   "outputs": [
    {
     "data": {
      "text/html": [
       "<div>\n",
       "<style scoped>\n",
       "    .dataframe tbody tr th:only-of-type {\n",
       "        vertical-align: middle;\n",
       "    }\n",
       "\n",
       "    .dataframe tbody tr th {\n",
       "        vertical-align: top;\n",
       "    }\n",
       "\n",
       "    .dataframe thead th {\n",
       "        text-align: right;\n",
       "    }\n",
       "</style>\n",
       "<table border=\"1\" class=\"dataframe\">\n",
       "  <thead>\n",
       "    <tr style=\"text-align: right;\">\n",
       "      <th></th>\n",
       "      <th>Marketing Spend</th>\n",
       "      <th>Administration</th>\n",
       "      <th>Transport</th>\n",
       "      <th>Area</th>\n",
       "      <th>Profit</th>\n",
       "    </tr>\n",
       "  </thead>\n",
       "  <tbody>\n",
       "    <tr>\n",
       "      <th>0</th>\n",
       "      <td>114523.61</td>\n",
       "      <td>136897.80</td>\n",
       "      <td>471784.10</td>\n",
       "      <td>Dhaka</td>\n",
       "      <td>192261.83</td>\n",
       "    </tr>\n",
       "    <tr>\n",
       "      <th>1</th>\n",
       "      <td>162597.70</td>\n",
       "      <td>151377.59</td>\n",
       "      <td>443898.53</td>\n",
       "      <td>Ctg</td>\n",
       "      <td>191792.06</td>\n",
       "    </tr>\n",
       "    <tr>\n",
       "      <th>2</th>\n",
       "      <td>153441.51</td>\n",
       "      <td>101145.55</td>\n",
       "      <td>407934.54</td>\n",
       "      <td>Rangpur</td>\n",
       "      <td>191050.39</td>\n",
       "    </tr>\n",
       "    <tr>\n",
       "      <th>3</th>\n",
       "      <td>144372.41</td>\n",
       "      <td>118671.85</td>\n",
       "      <td>383199.62</td>\n",
       "      <td>Dhaka</td>\n",
       "      <td>182901.99</td>\n",
       "    </tr>\n",
       "    <tr>\n",
       "      <th>4</th>\n",
       "      <td>142107.34</td>\n",
       "      <td>91391.77</td>\n",
       "      <td>366168.42</td>\n",
       "      <td>Rangpur</td>\n",
       "      <td>166187.94</td>\n",
       "    </tr>\n",
       "  </tbody>\n",
       "</table>\n",
       "</div>"
      ],
      "text/plain": [
       "   Marketing Spend  Administration  Transport     Area     Profit\n",
       "0        114523.61       136897.80  471784.10    Dhaka  192261.83\n",
       "1        162597.70       151377.59  443898.53      Ctg  191792.06\n",
       "2        153441.51       101145.55  407934.54  Rangpur  191050.39\n",
       "3        144372.41       118671.85  383199.62    Dhaka  182901.99\n",
       "4        142107.34        91391.77  366168.42  Rangpur  166187.94"
      ]
     },
     "execution_count": 21,
     "metadata": {},
     "output_type": "execute_result"
    }
   ],
   "source": [
    "df3.head()"
   ]
  },
  {
   "cell_type": "code",
   "execution_count": 22,
   "id": "d46536cf",
   "metadata": {
    "execution": {
     "iopub.execute_input": "2023-05-10T16:11:29.677046Z",
     "iopub.status.busy": "2023-05-10T16:11:29.676408Z",
     "iopub.status.idle": "2023-05-10T16:11:29.697231Z",
     "shell.execute_reply": "2023-05-10T16:11:29.696086Z"
    },
    "papermill": {
     "duration": 0.038022,
     "end_time": "2023-05-10T16:11:29.699598",
     "exception": false,
     "start_time": "2023-05-10T16:11:29.661576",
     "status": "completed"
    },
    "tags": []
   },
   "outputs": [
    {
     "data": {
      "text/html": [
       "<div>\n",
       "<style scoped>\n",
       "    .dataframe tbody tr th:only-of-type {\n",
       "        vertical-align: middle;\n",
       "    }\n",
       "\n",
       "    .dataframe tbody tr th {\n",
       "        vertical-align: top;\n",
       "    }\n",
       "\n",
       "    .dataframe thead th {\n",
       "        text-align: right;\n",
       "    }\n",
       "</style>\n",
       "<table border=\"1\" class=\"dataframe\">\n",
       "  <thead>\n",
       "    <tr style=\"text-align: right;\">\n",
       "      <th></th>\n",
       "      <th>Marketing Spend</th>\n",
       "      <th>Administration</th>\n",
       "      <th>Transport</th>\n",
       "      <th>Area</th>\n",
       "      <th>Profit</th>\n",
       "    </tr>\n",
       "  </thead>\n",
       "  <tbody>\n",
       "    <tr>\n",
       "      <th>0</th>\n",
       "      <td>0.672530</td>\n",
       "      <td>136897.80</td>\n",
       "      <td>471784.10</td>\n",
       "      <td>Dhaka</td>\n",
       "      <td>192261.83</td>\n",
       "    </tr>\n",
       "    <tr>\n",
       "      <th>1</th>\n",
       "      <td>1.452113</td>\n",
       "      <td>151377.59</td>\n",
       "      <td>443898.53</td>\n",
       "      <td>Ctg</td>\n",
       "      <td>191792.06</td>\n",
       "    </tr>\n",
       "    <tr>\n",
       "      <th>2</th>\n",
       "      <td>1.303634</td>\n",
       "      <td>101145.55</td>\n",
       "      <td>407934.54</td>\n",
       "      <td>Rangpur</td>\n",
       "      <td>191050.39</td>\n",
       "    </tr>\n",
       "    <tr>\n",
       "      <th>3</th>\n",
       "      <td>1.156567</td>\n",
       "      <td>118671.85</td>\n",
       "      <td>383199.62</td>\n",
       "      <td>Dhaka</td>\n",
       "      <td>182901.99</td>\n",
       "    </tr>\n",
       "    <tr>\n",
       "      <th>4</th>\n",
       "      <td>1.119836</td>\n",
       "      <td>91391.77</td>\n",
       "      <td>366168.42</td>\n",
       "      <td>Rangpur</td>\n",
       "      <td>166187.94</td>\n",
       "    </tr>\n",
       "  </tbody>\n",
       "</table>\n",
       "</div>"
      ],
      "text/plain": [
       "   Marketing Spend  Administration  Transport     Area     Profit\n",
       "0         0.672530       136897.80  471784.10    Dhaka  192261.83\n",
       "1         1.452113       151377.59  443898.53      Ctg  191792.06\n",
       "2         1.303634       101145.55  407934.54  Rangpur  191050.39\n",
       "3         1.156567       118671.85  383199.62    Dhaka  182901.99\n",
       "4         1.119836        91391.77  366168.42  Rangpur  166187.94"
      ]
     },
     "execution_count": 22,
     "metadata": {},
     "output_type": "execute_result"
    }
   ],
   "source": [
    "df3[\"Marketing Spend\"]=RS.fit_transform(df3[[\"Marketing Spend\"]])\n",
    "df3.head()"
   ]
  },
  {
   "cell_type": "code",
   "execution_count": 23,
   "id": "29892c66",
   "metadata": {
    "execution": {
     "iopub.execute_input": "2023-05-10T16:11:29.728863Z",
     "iopub.status.busy": "2023-05-10T16:11:29.728131Z",
     "iopub.status.idle": "2023-05-10T16:11:29.747627Z",
     "shell.execute_reply": "2023-05-10T16:11:29.746498Z"
    },
    "papermill": {
     "duration": 0.036959,
     "end_time": "2023-05-10T16:11:29.750046",
     "exception": false,
     "start_time": "2023-05-10T16:11:29.713087",
     "status": "completed"
    },
    "tags": []
   },
   "outputs": [
    {
     "data": {
      "text/html": [
       "<div>\n",
       "<style scoped>\n",
       "    .dataframe tbody tr th:only-of-type {\n",
       "        vertical-align: middle;\n",
       "    }\n",
       "\n",
       "    .dataframe tbody tr th {\n",
       "        vertical-align: top;\n",
       "    }\n",
       "\n",
       "    .dataframe thead th {\n",
       "        text-align: right;\n",
       "    }\n",
       "</style>\n",
       "<table border=\"1\" class=\"dataframe\">\n",
       "  <thead>\n",
       "    <tr style=\"text-align: right;\">\n",
       "      <th></th>\n",
       "      <th>Marketing Spend</th>\n",
       "      <th>Administration</th>\n",
       "      <th>Transport</th>\n",
       "      <th>Area</th>\n",
       "      <th>Profit</th>\n",
       "    </tr>\n",
       "  </thead>\n",
       "  <tbody>\n",
       "    <tr>\n",
       "      <th>0</th>\n",
       "      <td>0.672530</td>\n",
       "      <td>0.345355</td>\n",
       "      <td>471784.10</td>\n",
       "      <td>Dhaka</td>\n",
       "      <td>192261.83</td>\n",
       "    </tr>\n",
       "    <tr>\n",
       "      <th>1</th>\n",
       "      <td>1.452113</td>\n",
       "      <td>0.697565</td>\n",
       "      <td>443898.53</td>\n",
       "      <td>Ctg</td>\n",
       "      <td>191792.06</td>\n",
       "    </tr>\n",
       "    <tr>\n",
       "      <th>2</th>\n",
       "      <td>1.303634</td>\n",
       "      <td>-0.524290</td>\n",
       "      <td>407934.54</td>\n",
       "      <td>Rangpur</td>\n",
       "      <td>191050.39</td>\n",
       "    </tr>\n",
       "    <tr>\n",
       "      <th>3</th>\n",
       "      <td>1.156567</td>\n",
       "      <td>-0.097977</td>\n",
       "      <td>383199.62</td>\n",
       "      <td>Dhaka</td>\n",
       "      <td>182901.99</td>\n",
       "    </tr>\n",
       "    <tr>\n",
       "      <th>4</th>\n",
       "      <td>1.119836</td>\n",
       "      <td>-0.761543</td>\n",
       "      <td>366168.42</td>\n",
       "      <td>Rangpur</td>\n",
       "      <td>166187.94</td>\n",
       "    </tr>\n",
       "  </tbody>\n",
       "</table>\n",
       "</div>"
      ],
      "text/plain": [
       "   Marketing Spend  Administration  Transport     Area     Profit\n",
       "0         0.672530        0.345355  471784.10    Dhaka  192261.83\n",
       "1         1.452113        0.697565  443898.53      Ctg  191792.06\n",
       "2         1.303634       -0.524290  407934.54  Rangpur  191050.39\n",
       "3         1.156567       -0.097977  383199.62    Dhaka  182901.99\n",
       "4         1.119836       -0.761543  366168.42  Rangpur  166187.94"
      ]
     },
     "execution_count": 23,
     "metadata": {},
     "output_type": "execute_result"
    }
   ],
   "source": [
    "df3[\"Administration\"]=RS.fit_transform(df3[[\"Administration\"]])\n",
    "df3.head()"
   ]
  },
  {
   "cell_type": "code",
   "execution_count": 24,
   "id": "77f84404",
   "metadata": {
    "execution": {
     "iopub.execute_input": "2023-05-10T16:11:29.787389Z",
     "iopub.status.busy": "2023-05-10T16:11:29.786188Z",
     "iopub.status.idle": "2023-05-10T16:11:29.808594Z",
     "shell.execute_reply": "2023-05-10T16:11:29.807676Z"
    },
    "papermill": {
     "duration": 0.047182,
     "end_time": "2023-05-10T16:11:29.812268",
     "exception": false,
     "start_time": "2023-05-10T16:11:29.765086",
     "status": "completed"
    },
    "tags": []
   },
   "outputs": [
    {
     "data": {
      "text/html": [
       "<div>\n",
       "<style scoped>\n",
       "    .dataframe tbody tr th:only-of-type {\n",
       "        vertical-align: middle;\n",
       "    }\n",
       "\n",
       "    .dataframe tbody tr th {\n",
       "        vertical-align: top;\n",
       "    }\n",
       "\n",
       "    .dataframe thead th {\n",
       "        text-align: right;\n",
       "    }\n",
       "</style>\n",
       "<table border=\"1\" class=\"dataframe\">\n",
       "  <thead>\n",
       "    <tr style=\"text-align: right;\">\n",
       "      <th></th>\n",
       "      <th>Marketing Spend</th>\n",
       "      <th>Administration</th>\n",
       "      <th>Transport</th>\n",
       "      <th>Area</th>\n",
       "      <th>Profit</th>\n",
       "    </tr>\n",
       "  </thead>\n",
       "  <tbody>\n",
       "    <tr>\n",
       "      <th>0</th>\n",
       "      <td>0.672530</td>\n",
       "      <td>0.345355</td>\n",
       "      <td>1.552016</td>\n",
       "      <td>Dhaka</td>\n",
       "      <td>192261.83</td>\n",
       "    </tr>\n",
       "    <tr>\n",
       "      <th>1</th>\n",
       "      <td>1.452113</td>\n",
       "      <td>0.697565</td>\n",
       "      <td>1.383714</td>\n",
       "      <td>Ctg</td>\n",
       "      <td>191792.06</td>\n",
       "    </tr>\n",
       "    <tr>\n",
       "      <th>2</th>\n",
       "      <td>1.303634</td>\n",
       "      <td>-0.524290</td>\n",
       "      <td>1.166654</td>\n",
       "      <td>Rangpur</td>\n",
       "      <td>191050.39</td>\n",
       "    </tr>\n",
       "    <tr>\n",
       "      <th>3</th>\n",
       "      <td>1.156567</td>\n",
       "      <td>-0.097977</td>\n",
       "      <td>1.017368</td>\n",
       "      <td>Dhaka</td>\n",
       "      <td>182901.99</td>\n",
       "    </tr>\n",
       "    <tr>\n",
       "      <th>4</th>\n",
       "      <td>1.119836</td>\n",
       "      <td>-0.761543</td>\n",
       "      <td>0.914576</td>\n",
       "      <td>Rangpur</td>\n",
       "      <td>166187.94</td>\n",
       "    </tr>\n",
       "  </tbody>\n",
       "</table>\n",
       "</div>"
      ],
      "text/plain": [
       "   Marketing Spend  Administration  Transport     Area     Profit\n",
       "0         0.672530        0.345355   1.552016    Dhaka  192261.83\n",
       "1         1.452113        0.697565   1.383714      Ctg  191792.06\n",
       "2         1.303634       -0.524290   1.166654  Rangpur  191050.39\n",
       "3         1.156567       -0.097977   1.017368    Dhaka  182901.99\n",
       "4         1.119836       -0.761543   0.914576  Rangpur  166187.94"
      ]
     },
     "execution_count": 24,
     "metadata": {},
     "output_type": "execute_result"
    }
   ],
   "source": [
    "df3[\"Transport\"]=RS.fit_transform(df3[[\"Transport\"]])\n",
    "df3.head()"
   ]
  },
  {
   "cell_type": "markdown",
   "id": "5148b5e4",
   "metadata": {
    "papermill": {
     "duration": 0.014177,
     "end_time": "2023-05-10T16:11:29.844654",
     "exception": false,
     "start_time": "2023-05-10T16:11:29.830477",
     "status": "completed"
    },
    "tags": []
   },
   "source": [
    "## Max Absolute Scaler"
   ]
  },
  {
   "cell_type": "code",
   "execution_count": 25,
   "id": "36334746",
   "metadata": {
    "execution": {
     "iopub.execute_input": "2023-05-10T16:11:29.875567Z",
     "iopub.status.busy": "2023-05-10T16:11:29.874725Z",
     "iopub.status.idle": "2023-05-10T16:11:29.894471Z",
     "shell.execute_reply": "2023-05-10T16:11:29.892311Z"
    },
    "papermill": {
     "duration": 0.038475,
     "end_time": "2023-05-10T16:11:29.897507",
     "exception": false,
     "start_time": "2023-05-10T16:11:29.859032",
     "status": "completed"
    },
    "tags": []
   },
   "outputs": [
    {
     "data": {
      "text/html": [
       "<div>\n",
       "<style scoped>\n",
       "    .dataframe tbody tr th:only-of-type {\n",
       "        vertical-align: middle;\n",
       "    }\n",
       "\n",
       "    .dataframe tbody tr th {\n",
       "        vertical-align: top;\n",
       "    }\n",
       "\n",
       "    .dataframe thead th {\n",
       "        text-align: right;\n",
       "    }\n",
       "</style>\n",
       "<table border=\"1\" class=\"dataframe\">\n",
       "  <thead>\n",
       "    <tr style=\"text-align: right;\">\n",
       "      <th></th>\n",
       "      <th>Marketing Spend</th>\n",
       "      <th>Administration</th>\n",
       "      <th>Transport</th>\n",
       "      <th>Area</th>\n",
       "      <th>Profit</th>\n",
       "    </tr>\n",
       "  </thead>\n",
       "  <tbody>\n",
       "    <tr>\n",
       "      <th>0</th>\n",
       "      <td>114523.61</td>\n",
       "      <td>136897.80</td>\n",
       "      <td>471784.10</td>\n",
       "      <td>Dhaka</td>\n",
       "      <td>192261.83</td>\n",
       "    </tr>\n",
       "    <tr>\n",
       "      <th>1</th>\n",
       "      <td>162597.70</td>\n",
       "      <td>151377.59</td>\n",
       "      <td>443898.53</td>\n",
       "      <td>Ctg</td>\n",
       "      <td>191792.06</td>\n",
       "    </tr>\n",
       "    <tr>\n",
       "      <th>2</th>\n",
       "      <td>153441.51</td>\n",
       "      <td>101145.55</td>\n",
       "      <td>407934.54</td>\n",
       "      <td>Rangpur</td>\n",
       "      <td>191050.39</td>\n",
       "    </tr>\n",
       "    <tr>\n",
       "      <th>3</th>\n",
       "      <td>144372.41</td>\n",
       "      <td>118671.85</td>\n",
       "      <td>383199.62</td>\n",
       "      <td>Dhaka</td>\n",
       "      <td>182901.99</td>\n",
       "    </tr>\n",
       "    <tr>\n",
       "      <th>4</th>\n",
       "      <td>142107.34</td>\n",
       "      <td>91391.77</td>\n",
       "      <td>366168.42</td>\n",
       "      <td>Rangpur</td>\n",
       "      <td>166187.94</td>\n",
       "    </tr>\n",
       "  </tbody>\n",
       "</table>\n",
       "</div>"
      ],
      "text/plain": [
       "   Marketing Spend  Administration  Transport     Area     Profit\n",
       "0        114523.61       136897.80  471784.10    Dhaka  192261.83\n",
       "1        162597.70       151377.59  443898.53      Ctg  191792.06\n",
       "2        153441.51       101145.55  407934.54  Rangpur  191050.39\n",
       "3        144372.41       118671.85  383199.62    Dhaka  182901.99\n",
       "4        142107.34        91391.77  366168.42  Rangpur  166187.94"
      ]
     },
     "execution_count": 25,
     "metadata": {},
     "output_type": "execute_result"
    }
   ],
   "source": [
    "df4.head()"
   ]
  },
  {
   "cell_type": "code",
   "execution_count": 26,
   "id": "4a22328d",
   "metadata": {
    "execution": {
     "iopub.execute_input": "2023-05-10T16:11:29.933072Z",
     "iopub.status.busy": "2023-05-10T16:11:29.932657Z",
     "iopub.status.idle": "2023-05-10T16:11:29.936972Z",
     "shell.execute_reply": "2023-05-10T16:11:29.936158Z"
    },
    "papermill": {
     "duration": 0.023669,
     "end_time": "2023-05-10T16:11:29.939850",
     "exception": false,
     "start_time": "2023-05-10T16:11:29.916181",
     "status": "completed"
    },
    "tags": []
   },
   "outputs": [],
   "source": [
    "from sklearn.preprocessing import MaxAbsScaler"
   ]
  },
  {
   "cell_type": "code",
   "execution_count": 27,
   "id": "9891e9d7",
   "metadata": {
    "execution": {
     "iopub.execute_input": "2023-05-10T16:11:29.981744Z",
     "iopub.status.busy": "2023-05-10T16:11:29.981018Z",
     "iopub.status.idle": "2023-05-10T16:11:29.986319Z",
     "shell.execute_reply": "2023-05-10T16:11:29.985101Z"
    },
    "papermill": {
     "duration": 0.028672,
     "end_time": "2023-05-10T16:11:29.988788",
     "exception": false,
     "start_time": "2023-05-10T16:11:29.960116",
     "status": "completed"
    },
    "tags": []
   },
   "outputs": [],
   "source": [
    "MAS=MaxAbsScaler()"
   ]
  },
  {
   "cell_type": "code",
   "execution_count": 28,
   "id": "167d44bb",
   "metadata": {
    "execution": {
     "iopub.execute_input": "2023-05-10T16:11:30.019360Z",
     "iopub.status.busy": "2023-05-10T16:11:30.018938Z",
     "iopub.status.idle": "2023-05-10T16:11:30.045945Z",
     "shell.execute_reply": "2023-05-10T16:11:30.042274Z"
    },
    "papermill": {
     "duration": 0.046005,
     "end_time": "2023-05-10T16:11:30.049272",
     "exception": false,
     "start_time": "2023-05-10T16:11:30.003267",
     "status": "completed"
    },
    "tags": []
   },
   "outputs": [
    {
     "data": {
      "text/html": [
       "<div>\n",
       "<style scoped>\n",
       "    .dataframe tbody tr th:only-of-type {\n",
       "        vertical-align: middle;\n",
       "    }\n",
       "\n",
       "    .dataframe tbody tr th {\n",
       "        vertical-align: top;\n",
       "    }\n",
       "\n",
       "    .dataframe thead th {\n",
       "        text-align: right;\n",
       "    }\n",
       "</style>\n",
       "<table border=\"1\" class=\"dataframe\">\n",
       "  <thead>\n",
       "    <tr style=\"text-align: right;\">\n",
       "      <th></th>\n",
       "      <th>Marketing Spend</th>\n",
       "      <th>Administration</th>\n",
       "      <th>Transport</th>\n",
       "      <th>Area</th>\n",
       "      <th>Profit</th>\n",
       "    </tr>\n",
       "  </thead>\n",
       "  <tbody>\n",
       "    <tr>\n",
       "      <th>0</th>\n",
       "      <td>0.692617</td>\n",
       "      <td>136897.80</td>\n",
       "      <td>471784.10</td>\n",
       "      <td>Dhaka</td>\n",
       "      <td>192261.83</td>\n",
       "    </tr>\n",
       "    <tr>\n",
       "      <th>1</th>\n",
       "      <td>0.983359</td>\n",
       "      <td>151377.59</td>\n",
       "      <td>443898.53</td>\n",
       "      <td>Ctg</td>\n",
       "      <td>191792.06</td>\n",
       "    </tr>\n",
       "    <tr>\n",
       "      <th>2</th>\n",
       "      <td>0.927985</td>\n",
       "      <td>101145.55</td>\n",
       "      <td>407934.54</td>\n",
       "      <td>Rangpur</td>\n",
       "      <td>191050.39</td>\n",
       "    </tr>\n",
       "    <tr>\n",
       "      <th>3</th>\n",
       "      <td>0.873136</td>\n",
       "      <td>118671.85</td>\n",
       "      <td>383199.62</td>\n",
       "      <td>Dhaka</td>\n",
       "      <td>182901.99</td>\n",
       "    </tr>\n",
       "    <tr>\n",
       "      <th>4</th>\n",
       "      <td>0.859438</td>\n",
       "      <td>91391.77</td>\n",
       "      <td>366168.42</td>\n",
       "      <td>Rangpur</td>\n",
       "      <td>166187.94</td>\n",
       "    </tr>\n",
       "  </tbody>\n",
       "</table>\n",
       "</div>"
      ],
      "text/plain": [
       "   Marketing Spend  Administration  Transport     Area     Profit\n",
       "0         0.692617       136897.80  471784.10    Dhaka  192261.83\n",
       "1         0.983359       151377.59  443898.53      Ctg  191792.06\n",
       "2         0.927985       101145.55  407934.54  Rangpur  191050.39\n",
       "3         0.873136       118671.85  383199.62    Dhaka  182901.99\n",
       "4         0.859438        91391.77  366168.42  Rangpur  166187.94"
      ]
     },
     "execution_count": 28,
     "metadata": {},
     "output_type": "execute_result"
    }
   ],
   "source": [
    "df4[\"Marketing Spend\"]=MAS.fit_transform(df4[[\"Marketing Spend\"]])\n",
    "df4.head()"
   ]
  },
  {
   "cell_type": "code",
   "execution_count": 29,
   "id": "fb0c22b9",
   "metadata": {
    "execution": {
     "iopub.execute_input": "2023-05-10T16:11:30.083203Z",
     "iopub.status.busy": "2023-05-10T16:11:30.081875Z",
     "iopub.status.idle": "2023-05-10T16:11:30.102437Z",
     "shell.execute_reply": "2023-05-10T16:11:30.101461Z"
    },
    "papermill": {
     "duration": 0.040779,
     "end_time": "2023-05-10T16:11:30.105522",
     "exception": false,
     "start_time": "2023-05-10T16:11:30.064743",
     "status": "completed"
    },
    "tags": []
   },
   "outputs": [
    {
     "data": {
      "text/html": [
       "<div>\n",
       "<style scoped>\n",
       "    .dataframe tbody tr th:only-of-type {\n",
       "        vertical-align: middle;\n",
       "    }\n",
       "\n",
       "    .dataframe tbody tr th {\n",
       "        vertical-align: top;\n",
       "    }\n",
       "\n",
       "    .dataframe thead th {\n",
       "        text-align: right;\n",
       "    }\n",
       "</style>\n",
       "<table border=\"1\" class=\"dataframe\">\n",
       "  <thead>\n",
       "    <tr style=\"text-align: right;\">\n",
       "      <th></th>\n",
       "      <th>Marketing Spend</th>\n",
       "      <th>Administration</th>\n",
       "      <th>Transport</th>\n",
       "      <th>Area</th>\n",
       "      <th>Profit</th>\n",
       "    </tr>\n",
       "  </thead>\n",
       "  <tbody>\n",
       "    <tr>\n",
       "      <th>0</th>\n",
       "      <td>0.692617</td>\n",
       "      <td>0.749527</td>\n",
       "      <td>471784.10</td>\n",
       "      <td>Dhaka</td>\n",
       "      <td>192261.83</td>\n",
       "    </tr>\n",
       "    <tr>\n",
       "      <th>1</th>\n",
       "      <td>0.983359</td>\n",
       "      <td>0.828805</td>\n",
       "      <td>443898.53</td>\n",
       "      <td>Ctg</td>\n",
       "      <td>191792.06</td>\n",
       "    </tr>\n",
       "    <tr>\n",
       "      <th>2</th>\n",
       "      <td>0.927985</td>\n",
       "      <td>0.553781</td>\n",
       "      <td>407934.54</td>\n",
       "      <td>Rangpur</td>\n",
       "      <td>191050.39</td>\n",
       "    </tr>\n",
       "    <tr>\n",
       "      <th>3</th>\n",
       "      <td>0.873136</td>\n",
       "      <td>0.649738</td>\n",
       "      <td>383199.62</td>\n",
       "      <td>Dhaka</td>\n",
       "      <td>182901.99</td>\n",
       "    </tr>\n",
       "    <tr>\n",
       "      <th>4</th>\n",
       "      <td>0.859438</td>\n",
       "      <td>0.500378</td>\n",
       "      <td>366168.42</td>\n",
       "      <td>Rangpur</td>\n",
       "      <td>166187.94</td>\n",
       "    </tr>\n",
       "  </tbody>\n",
       "</table>\n",
       "</div>"
      ],
      "text/plain": [
       "   Marketing Spend  Administration  Transport     Area     Profit\n",
       "0         0.692617        0.749527  471784.10    Dhaka  192261.83\n",
       "1         0.983359        0.828805  443898.53      Ctg  191792.06\n",
       "2         0.927985        0.553781  407934.54  Rangpur  191050.39\n",
       "3         0.873136        0.649738  383199.62    Dhaka  182901.99\n",
       "4         0.859438        0.500378  366168.42  Rangpur  166187.94"
      ]
     },
     "execution_count": 29,
     "metadata": {},
     "output_type": "execute_result"
    }
   ],
   "source": [
    "df4[\"Administration\"]=MAS.fit_transform(df4[[\"Administration\"]])\n",
    "df4.head()"
   ]
  },
  {
   "cell_type": "code",
   "execution_count": 30,
   "id": "d5d5e7f9",
   "metadata": {
    "execution": {
     "iopub.execute_input": "2023-05-10T16:11:30.144276Z",
     "iopub.status.busy": "2023-05-10T16:11:30.142978Z",
     "iopub.status.idle": "2023-05-10T16:11:30.164227Z",
     "shell.execute_reply": "2023-05-10T16:11:30.163328Z"
    },
    "papermill": {
     "duration": 0.041128,
     "end_time": "2023-05-10T16:11:30.166942",
     "exception": false,
     "start_time": "2023-05-10T16:11:30.125814",
     "status": "completed"
    },
    "tags": []
   },
   "outputs": [
    {
     "data": {
      "text/html": [
       "<div>\n",
       "<style scoped>\n",
       "    .dataframe tbody tr th:only-of-type {\n",
       "        vertical-align: middle;\n",
       "    }\n",
       "\n",
       "    .dataframe tbody tr th {\n",
       "        vertical-align: top;\n",
       "    }\n",
       "\n",
       "    .dataframe thead th {\n",
       "        text-align: right;\n",
       "    }\n",
       "</style>\n",
       "<table border=\"1\" class=\"dataframe\">\n",
       "  <thead>\n",
       "    <tr style=\"text-align: right;\">\n",
       "      <th></th>\n",
       "      <th>Marketing Spend</th>\n",
       "      <th>Administration</th>\n",
       "      <th>Transport</th>\n",
       "      <th>Area</th>\n",
       "      <th>Profit</th>\n",
       "    </tr>\n",
       "  </thead>\n",
       "  <tbody>\n",
       "    <tr>\n",
       "      <th>0</th>\n",
       "      <td>0.692617</td>\n",
       "      <td>0.749527</td>\n",
       "      <td>1.000000</td>\n",
       "      <td>Dhaka</td>\n",
       "      <td>192261.83</td>\n",
       "    </tr>\n",
       "    <tr>\n",
       "      <th>1</th>\n",
       "      <td>0.983359</td>\n",
       "      <td>0.828805</td>\n",
       "      <td>0.940893</td>\n",
       "      <td>Ctg</td>\n",
       "      <td>191792.06</td>\n",
       "    </tr>\n",
       "    <tr>\n",
       "      <th>2</th>\n",
       "      <td>0.927985</td>\n",
       "      <td>0.553781</td>\n",
       "      <td>0.864664</td>\n",
       "      <td>Rangpur</td>\n",
       "      <td>191050.39</td>\n",
       "    </tr>\n",
       "    <tr>\n",
       "      <th>3</th>\n",
       "      <td>0.873136</td>\n",
       "      <td>0.649738</td>\n",
       "      <td>0.812235</td>\n",
       "      <td>Dhaka</td>\n",
       "      <td>182901.99</td>\n",
       "    </tr>\n",
       "    <tr>\n",
       "      <th>4</th>\n",
       "      <td>0.859438</td>\n",
       "      <td>0.500378</td>\n",
       "      <td>0.776136</td>\n",
       "      <td>Rangpur</td>\n",
       "      <td>166187.94</td>\n",
       "    </tr>\n",
       "  </tbody>\n",
       "</table>\n",
       "</div>"
      ],
      "text/plain": [
       "   Marketing Spend  Administration  Transport     Area     Profit\n",
       "0         0.692617        0.749527   1.000000    Dhaka  192261.83\n",
       "1         0.983359        0.828805   0.940893      Ctg  191792.06\n",
       "2         0.927985        0.553781   0.864664  Rangpur  191050.39\n",
       "3         0.873136        0.649738   0.812235    Dhaka  182901.99\n",
       "4         0.859438        0.500378   0.776136  Rangpur  166187.94"
      ]
     },
     "execution_count": 30,
     "metadata": {},
     "output_type": "execute_result"
    }
   ],
   "source": [
    "df4[\"Transport\"]=MAS.fit_transform(df4[[\"Transport\"]])\n",
    "df4.head()"
   ]
  }
 ],
 "metadata": {
  "kernelspec": {
   "display_name": "Python 3",
   "language": "python",
   "name": "python3"
  },
  "language_info": {
   "codemirror_mode": {
    "name": "ipython",
    "version": 3
   },
   "file_extension": ".py",
   "mimetype": "text/x-python",
   "name": "python",
   "nbconvert_exporter": "python",
   "pygments_lexer": "ipython3",
   "version": "3.10.10"
  },
  "papermill": {
   "default_parameters": {},
   "duration": 16.72939,
   "end_time": "2023-05-10T16:11:31.209542",
   "environment_variables": {},
   "exception": null,
   "input_path": "__notebook__.ipynb",
   "output_path": "__notebook__.ipynb",
   "parameters": {},
   "start_time": "2023-05-10T16:11:14.480152",
   "version": "2.4.0"
  }
 },
 "nbformat": 4,
 "nbformat_minor": 5
}
